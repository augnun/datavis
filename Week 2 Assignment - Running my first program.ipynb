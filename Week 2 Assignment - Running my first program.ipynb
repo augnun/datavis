{
 "cells": [
  {
   "cell_type": "markdown",
   "metadata": {},
   "source": [
    "# Assignment: Running Your First Program\n",
    "\n",
    "\n",
    "## Introduction \n",
    "\n",
    "This is the assignment for the 2nd week of the [Data Management and Visualization MOOC](https://www.coursera.org/learn/data-visualization) on [coursera](coursera.org). The purpose of this program is to serve as a first approach to exploratory analysis of the dataset and codebook chosen in the 1st week of the course, namely, the Mars Crater Survey Data available on the course page, and the variables:\n",
    "\n",
    "* __LATITUDE_CIRCLE_IMAGE__–latitude from the derived center of a non-linear least-squares circle fit to the vertices selected to manually identify the crater rim (units are decimal degrees north);\n",
    "\n",
    "* __DIAM_CIRCLE_IMAGE__–diameter from a non-linear least squares circle\t fit\t to\t the  vertices\t selected\t to\t manually\t identify\t the\t crater\t rim (units\tare Km).\n",
    "\n",
    "* __DEPTH_RIMFLOOR_TOPOG__–average elevation of each of the manually determined N points along (or inside) the crater rim(units are km)\n",
    "\n",
    "    When doing exploratory analysis, it is often useful to include any unique identifiers that our observations might have, and in this dataset specifically we have the __CRATER_ID__ variable.\n",
    "    \n",
    "    __Technical sidenote__: this report was made using the [Jupyter Notebook web application](https://jupyter.org/) with the [iPython Kernel](http://ipython.org/). The reason I chose this particular set-up is because it is very similar to what I'm used to utilize in my daily data-analysis: R + rstudio + knittr. It is certainly a very streamlined and fast way to produce reports and analysis in varying degrees of sofistication. It is also certainly faster than an IDE setup (specially Spyder), which is somewhat restrictive on the presentation side of things, and I would have notable rework when translating my work to my blog.\n",
    "    \n",
    "    So let's get to it.\n",
    "    \n",
    "    \n",
    "## Loading the dataset and preparing our variables\n",
    "\n",
    "\n",
    "As noted in the introduction, this is the dataset made available on the course page. First, we load the whole dataset, and then we subset the variables of interest."
   ]
  },
  {
   "cell_type": "code",
   "execution_count": 1,
   "metadata": {
    "collapsed": false
   },
   "outputs": [],
   "source": [
    "%matplotlib inline\n",
    "import pandas\n",
    "import matplotlib.pyplot\n",
    "\n",
    "data = pandas.read_csv('marscrater_pds.csv', low_memory = False)\n",
    "data = data[['LATITUDE_CIRCLE_IMAGE', 'DIAM_CIRCLE_IMAGE','DEPTH_RIMFLOOR_TOPOG']]"
   ]
  },
  {
   "cell_type": "markdown",
   "metadata": {
    "collapsed": true
   },
   "source": [
    "## Structure of our dataset"
   ]
  },
  {
   "cell_type": "code",
   "execution_count": 2,
   "metadata": {
    "collapsed": false
   },
   "outputs": [
    {
     "name": "stdout",
     "output_type": "stream",
     "text": [
      "(384343, 3)\n"
     ]
    }
   ],
   "source": [
    "print(data.shape)"
   ]
  },
  {
   "cell_type": "markdown",
   "metadata": {},
   "source": [
    "That is, there's 384343 (!) observations of 3 variables. We can check that the column names of our dataset really correspond to the subset we chose:"
   ]
  },
  {
   "cell_type": "code",
   "execution_count": 3,
   "metadata": {
    "collapsed": false
   },
   "outputs": [
    {
     "name": "stdout",
     "output_type": "stream",
     "text": [
      "['LATITUDE_CIRCLE_IMAGE' 'DIAM_CIRCLE_IMAGE' 'DEPTH_RIMFLOOR_TOPOG']\n"
     ]
    }
   ],
   "source": [
    "print(data.columns.values)"
   ]
  },
  {
   "cell_type": "markdown",
   "metadata": {},
   "source": [
    "The number of missing observations in each variable is:"
   ]
  },
  {
   "cell_type": "code",
   "execution_count": 4,
   "metadata": {
    "collapsed": false
   },
   "outputs": [
    {
     "name": "stdout",
     "output_type": "stream",
     "text": [
      "LATITUDE_CIRCLE_IMAGE    0\n",
      "DIAM_CIRCLE_IMAGE        0\n",
      "DEPTH_RIMFLOOR_TOPOG     0\n",
      "dtype: int64\n"
     ]
    }
   ],
   "source": [
    "print(data.isnull().sum())"
   ]
  },
  {
   "cell_type": "markdown",
   "metadata": {},
   "source": [
    "Great! We have no missing observations of any of the variables in our dataset. That can be explained in part by the fact that both the __LATITUDE_CIRCLE_IMAGE__ and the __DIAM_CIRCLE_IMAGE__ are obtained by the regression method called Non-linear Least Squares (NLLS). For the __DEPTH_RIMFLOOR_TOPOG__ variable, I couldn't find any specifics on how it was obtained, although I guess it is estimated by optical instruments.\n",
    "\n",
    "## Visualizing the values\n",
    "\n",
    "We can tabulate the observations individually:"
   ]
  },
  {
   "cell_type": "code",
   "execution_count": 5,
   "metadata": {
    "collapsed": false
   },
   "outputs": [
    {
     "name": "stdout",
     "output_type": "stream",
     "text": [
      "Frequency table of the variable LATITUDE_CIRCLE_IMAGE\n",
      " -23.634    17\n",
      "-2.572     16\n",
      "-3.150     15\n",
      "-22.340    15\n",
      "-12.406    15\n",
      "-17.317    15\n",
      "-12.970    15\n",
      "-19.724    14\n",
      "-21.218    14\n",
      "-25.794    14\n",
      "-28.846    14\n",
      "-10.130    14\n",
      "-15.941    13\n",
      "-3.156     13\n",
      "-21.579    13\n",
      "-17.352    13\n",
      "-21.841    13\n",
      "-25.820    13\n",
      "-26.596    13\n",
      "-9.262     13\n",
      "-17.669    13\n",
      "-24.741    13\n",
      "-12.505    13\n",
      "-20.381    13\n",
      "-21.880    13\n",
      "-16.999    13\n",
      "-19.448    13\n",
      "-18.087    13\n",
      "-12.655    13\n",
      "-12.262    13\n",
      "           ..\n",
      " 69.540     1\n",
      " 10.420     1\n",
      "-70.124     1\n",
      "-49.441     1\n",
      " 36.901     1\n",
      "-62.060     1\n",
      " 64.387     1\n",
      " 52.732     1\n",
      "-62.940     1\n",
      "-67.224     1\n",
      "-39.983     1\n",
      "-48.566     1\n",
      "-57.935     1\n",
      "-8.618      1\n",
      " 11.670     1\n",
      " 52.107     1\n",
      " 11.117     1\n",
      " 29.303     1\n",
      "-44.966     1\n",
      "-66.565     1\n",
      "-53.532     1\n",
      " 68.637     1\n",
      " 73.790     1\n",
      "-60.685     1\n",
      "-70.474     1\n",
      " 12.762     1\n",
      "-3.174      1\n",
      "-41.091     1\n",
      "-56.352     1\n",
      " 48.541     1\n",
      "Name: LATITUDE_CIRCLE_IMAGE, dtype: int64\n"
     ]
    }
   ],
   "source": [
    "print(\"Frequency table of the variable LATITUDE_CIRCLE_IMAGE\\n\",data['LATITUDE_CIRCLE_IMAGE'].value_counts(sort=True))"
   ]
  },
  {
   "cell_type": "code",
   "execution_count": 14,
   "metadata": {
    "collapsed": false
   },
   "outputs": [
    {
     "name": "stdout",
     "output_type": "stream",
     "text": [
      "Frequency table of the variable DIAM_CIRCLE_IMAGE\n",
      " 1.01      6298\n",
      "1.02      6077\n",
      "1.03      6035\n",
      "1.04      5941\n",
      "1.05      5771\n",
      "1.06      5556\n",
      "1.07      5454\n",
      "1.08      5418\n",
      "1.09      5197\n",
      "1.10      5088\n",
      "1.11      4884\n",
      "1.12      4846\n",
      "1.13      4687\n",
      "1.15      4559\n",
      "1.14      4457\n",
      "1.16      4396\n",
      "1.18      4265\n",
      "1.17      4250\n",
      "1.19      3996\n",
      "1.20      3981\n",
      "1.21      3899\n",
      "1.22      3754\n",
      "1.24      3697\n",
      "1.23      3650\n",
      "1.26      3524\n",
      "1.25      3486\n",
      "1.27      3428\n",
      "1.28      3240\n",
      "1.30      3145\n",
      "1.00      3129\n",
      "          ... \n",
      "94.81        1\n",
      "93.81        1\n",
      "88.56        1\n",
      "87.81        1\n",
      "87.06        1\n",
      "81.56        1\n",
      "80.06        1\n",
      "75.31        1\n",
      "74.81        1\n",
      "73.56        1\n",
      "123.31       1\n",
      "134.81       1\n",
      "42.63        1\n",
      "139.06       1\n",
      "45.38        1\n",
      "78.52        1\n",
      "41.38        1\n",
      "36.63        1\n",
      "36.23        1\n",
      "276.56       1\n",
      "261.31       1\n",
      "236.06       1\n",
      "222.31       1\n",
      "198.81       1\n",
      "181.31       1\n",
      "179.06       1\n",
      "150.81       1\n",
      "147.31       1\n",
      "145.56       1\n",
      "81.74        1\n",
      "Name: DIAM_CIRCLE_IMAGE, dtype: int64\n"
     ]
    }
   ],
   "source": [
    "print(\"Frequency table of the variable DIAM_CIRCLE_IMAGE\\n\",data['DIAM_CIRCLE_IMAGE'].value_counts(sort=True))"
   ]
  },
  {
   "cell_type": "code",
   "execution_count": 15,
   "metadata": {
    "collapsed": false
   },
   "outputs": [
    {
     "name": "stdout",
     "output_type": "stream",
     "text": [
      "Frequency table of the variable DEPTH_RIMFLOOR_TOPOG\n",
      " 0.00    307529\n",
      "0.07      2059\n",
      "0.08      2047\n",
      "0.09      2008\n",
      "0.10      1999\n",
      "0.11      1953\n",
      "0.06      1895\n",
      "0.12      1853\n",
      "0.13      1763\n",
      "0.05      1743\n",
      "0.04      1644\n",
      "0.14      1632\n",
      "0.15      1627\n",
      "0.16      1541\n",
      "0.17      1435\n",
      "0.18      1365\n",
      "0.19      1363\n",
      "0.03      1301\n",
      "0.21      1247\n",
      "0.20      1201\n",
      "0.22      1189\n",
      "0.23      1110\n",
      "0.25      1091\n",
      "0.24      1040\n",
      "0.26      1021\n",
      "0.27      1004\n",
      "0.28       934\n",
      "0.29       930\n",
      "0.30       915\n",
      "0.02       862\n",
      "         ...  \n",
      "4.75         1\n",
      "2.76         1\n",
      "4.01         1\n",
      "4.95         1\n",
      "2.95         1\n",
      "3.47         1\n",
      "2.69         1\n",
      "2.79         1\n",
      "2.94         1\n",
      "2.87         1\n",
      "2.73         1\n",
      "2.90         1\n",
      "2.97         1\n",
      "3.31         1\n",
      "2.82         1\n",
      "2.83         1\n",
      "2.84         1\n",
      "3.10         1\n",
      "3.08         1\n",
      "3.60         1\n",
      "2.48         1\n",
      "2.57         1\n",
      "2.78         1\n",
      "3.11         1\n",
      "3.03         1\n",
      "3.13         1\n",
      "2.58         1\n",
      "2.63         1\n",
      "3.80         1\n",
      "3.64         1\n",
      "Name: DEPTH_RIMFLOOR_TOPOG, dtype: int64\n"
     ]
    }
   ],
   "source": [
    "print(\"Frequency table of the variable DEPTH_RIMFLOOR_TOPOG\\n\",data['DEPTH_RIMFLOOR_TOPOG'].value_counts(sort=True))"
   ]
  },
  {
   "cell_type": "markdown",
   "metadata": {},
   "source": [
    "Note the ellipsis in all three tabulations. We have many, many diverse values of observations, so that pandas cannot efficiently tabulate all of them. It chooses to use the suspension points to keep things brief, but it is also an indication that we could choose a better way to describe our data, like in a histogram. Lets plot our variables in three histograms:"
   ]
  },
  {
   "cell_type": "code",
   "execution_count": 7,
   "metadata": {
    "collapsed": false
   },
   "outputs": [
    {
     "data": {
      "image/png": "[encoded data removed]",
      "text/plain": [
       "<matplotlib.figure.Figure at 0x2f8a630>"
      ]
     },
     "metadata": {},
     "output_type": "display_data"
    }
   ],
   "source": [
    "matplotlib.pyplot.hist(data['LATITUDE_CIRCLE_IMAGE'], bins = 100)\n",
    "matplotlib.pyplot.xlabel(\"LATITUDE_CIRCLE_IMAGE\")\n",
    "matplotlib.pyplot.ylabel(\"Number of observations\")\n",
    "matplotlib.pyplot.title(\"Histogram of the variable LATITUDE_CIRCLE_IMAGE\")\n",
    "matplotlib.pyplot.show()"
   ]
  },
  {
   "cell_type": "markdown",
   "metadata": {},
   "source": [
    "We can see the behavior of our data more clearly with the histogram. Note how there's a clearer visualization of our data, it's behavior. We can assert, for example:\n",
    "\n",
    "* The data is unimodal;\n",
    "\n",
    "* The data is, _to some extent_, symmetric around a value which is between 0 and -50 degrees north, the _mean_ of the latitude of the craters.\n",
    "\n",
    "This histogram points towards a _normality_ of our data. We could execute an hypothesis test using the Shapiro-Wilk or Kolmogorov-Smirnov tests for adherence, or even a Q-Q plot with regards to a Normal distribution could at least point towards a qualitative decision whether our data follows the Normal distribution or not. We'll keep this to a second opportunity."
   ]
  },
  {
   "cell_type": "code",
   "execution_count": 15,
   "metadata": {
    "collapsed": false
   },
   "outputs": [
    {
     "data": {
      "image/png": "[encoded data removed]",
      "text/plain": [
       "<matplotlib.figure.Figure at 0x7242db0>"
      ]
     },
     "metadata": {},
     "output_type": "display_data"
    }
   ],
   "source": [
    "matplotlib.pyplot.hist(data['DIAM_CIRCLE_IMAGE'], bins = 10000)\n",
    "matplotlib.pyplot.xlabel(\"DIAM_CIRCLE_IMAGE\")\n",
    "matplotlib.pyplot.ylabel(\"Number of observations\")\n",
    "matplotlib.pyplot.title(\"Histogram of the variable DIAM_CIRCLE_IMAGE\")\n",
    "matplotlib.pyplot.axis([1,10,0,70000])\n",
    "matplotlib.pyplot.show()"
   ]
  },
  {
   "cell_type": "markdown",
   "metadata": {},
   "source": [
    "The case of DIAM_CIRCLE_IMAGE is also interesting. This histogram suggests a power law distribution. Power laws appear in many diverse phenomena, on Earth or otherwise, and this was certainly a nice find on our exploratory investigation."
   ]
  },
  {
   "cell_type": "code",
   "execution_count": 18,
   "metadata": {
    "collapsed": false
   },
   "outputs": [
    {
     "data": {
      "image/png": "[encoded data removed]",
      "text/plain": [
       "<matplotlib.figure.Figure at 0xfa48d30>"
      ]
     },
     "metadata": {},
     "output_type": "display_data"
    }
   ],
   "source": [
    "matplotlib.pyplot.hist(data['DEPTH_RIMFLOOR_TOPOG'], bins = 100)\n",
    "matplotlib.pyplot.xlabel(\"DEPTH_RIMFLOOR_TOPOG\")\n",
    "matplotlib.pyplot.ylabel(\"Number of observations\")\n",
    "matplotlib.pyplot.title(\"Histogram of the variable DEPTH_RIMFLOOR_TOPOG\")\n",
    "matplotlib.pyplot.axis([0,1.5,0,310000])\n",
    "matplotlib.pyplot.show()"
   ]
  },
  {
   "cell_type": "markdown",
   "metadata": {},
   "source": [
    "Sadly, our DEPTH_RIMFLOOR_TOPOG has a distribution which is grossly skewed. Note how the frequency table above already told us this: there's 307529 observations with the value 0 for this variable."
   ]
  }
 ],
 "metadata": {
  "kernelspec": {
   "display_name": "Python 3",
   "language": "python",
   "name": "python3"
  },
  "language_info": {
   "codemirror_mode": {
    "name": "ipython",
    "version": 3
   },
   "file_extension": ".py",
   "mimetype": "text/x-python",
   "name": "python",
   "nbconvert_exporter": "python",
   "pygments_lexer": "ipython3",
   "version": "3.5.1"
  }
 },
 "nbformat": 4,
 "nbformat_minor": 0
}
